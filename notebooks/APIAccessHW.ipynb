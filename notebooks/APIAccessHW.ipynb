{
 "cells": [
  {
   "cell_type": "markdown",
   "metadata": {
    "id": "trdSV9N_3mfR"
   },
   "source": [
    "# Getting data from an API\n",
    "This notebook walks you through some steps in collecting data from Reddit using the News API.\n",
    "\n",
    "We will use the **News API** which is documented here -> https://newsapi.org/docs/client-libraries/python"
   ]
  },
  {
   "cell_type": "markdown",
   "metadata": {
    "id": "sHUDBzIB4NQY"
   },
   "source": [
    "## Install the newsapi library"
   ]
  },
  {
   "cell_type": "code",
   "execution_count": 4,
   "metadata": {
    "colab": {
     "base_uri": "https://localhost:8080/"
    },
    "executionInfo": {
     "elapsed": 4876,
     "status": "ok",
     "timestamp": 1615794826798,
     "user": {
      "displayName": "Sean David Yuhico",
      "photoUrl": "https://lh3.googleusercontent.com/a-/AOh14GhU1Jqg10dWRMp7gIKifWx58faB2hJOgBGgNQU2=s64",
      "userId": "12612454589938675731"
     },
     "user_tz": -480
    },
    "id": "WxpCx0A738CI",
    "outputId": "c84b289c-0be8-45d7-d5ba-5eb8f8ad6a5a"
   },
   "outputs": [
    {
     "name": "stdout",
     "output_type": "stream",
     "text": [
      "Collecting newsapi-python\n",
      "  Downloading https://files.pythonhosted.org/packages/de/9e/9050199ac7cbc755d1c49577fdaa5517901124b574264b3602a8b8028440/newsapi_python-0.2.6-py2.py3-none-any.whl\n",
      "Requirement already satisfied: requests<3.0.0 in /usr/local/lib/python3.7/dist-packages (from newsapi-python) (2.23.0)\n",
      "Requirement already satisfied: certifi>=2017.4.17 in /usr/local/lib/python3.7/dist-packages (from requests<3.0.0->newsapi-python) (2020.12.5)\n",
      "Requirement already satisfied: chardet<4,>=3.0.2 in /usr/local/lib/python3.7/dist-packages (from requests<3.0.0->newsapi-python) (3.0.4)\n",
      "Requirement already satisfied: urllib3!=1.25.0,!=1.25.1,<1.26,>=1.21.1 in /usr/local/lib/python3.7/dist-packages (from requests<3.0.0->newsapi-python) (1.24.3)\n",
      "Requirement already satisfied: idna<3,>=2.5 in /usr/local/lib/python3.7/dist-packages (from requests<3.0.0->newsapi-python) (2.10)\n",
      "Installing collected packages: newsapi-python\n",
      "Successfully installed newsapi-python-0.2.6\n"
     ]
    }
   ],
   "source": [
    "!python -m pip install newsapi-python"
   ]
  },
  {
   "cell_type": "markdown",
   "metadata": {
    "id": "9jLT7QUN4Wx5"
   },
   "source": [
    "##Import the package"
   ]
  },
  {
   "cell_type": "code",
   "execution_count": 5,
   "metadata": {
    "executionInfo": {
     "elapsed": 765,
     "status": "ok",
     "timestamp": 1615794831501,
     "user": {
      "displayName": "Sean David Yuhico",
      "photoUrl": "https://lh3.googleusercontent.com/a-/AOh14GhU1Jqg10dWRMp7gIKifWx58faB2hJOgBGgNQU2=s64",
      "userId": "12612454589938675731"
     },
     "user_tz": -480
    },
    "id": "hcsdrRIQ3HC1"
   },
   "outputs": [],
   "source": [
    "from newsapi import NewsApiClient"
   ]
  },
  {
   "cell_type": "code",
   "execution_count": 6,
   "metadata": {
    "executionInfo": {
     "elapsed": 698,
     "status": "ok",
     "timestamp": 1615794834770,
     "user": {
      "displayName": "Sean David Yuhico",
      "photoUrl": "https://lh3.googleusercontent.com/a-/AOh14GhU1Jqg10dWRMp7gIKifWx58faB2hJOgBGgNQU2=s64",
      "userId": "12612454589938675731"
     },
     "user_tz": -480
    },
    "id": "_5DyN-ZpzPj1"
   },
   "outputs": [],
   "source": [
    "key = 'aff444efbb664d54a09d112ce2b0b28f'\n",
    "newsapi = NewsApiClient(api_key=key)"
   ]
  },
  {
   "cell_type": "markdown",
   "metadata": {
    "id": "gm0BwN704hp0"
   },
   "source": [
    "## Get all the articles published on March 11-12, 2021"
   ]
  },
  {
   "cell_type": "code",
   "execution_count": 9,
   "metadata": {
    "colab": {
     "base_uri": "https://localhost:8080/"
    },
    "executionInfo": {
     "elapsed": 705,
     "status": "ok",
     "timestamp": 1615795603605,
     "user": {
      "displayName": "Sean David Yuhico",
      "photoUrl": "https://lh3.googleusercontent.com/a-/AOh14GhU1Jqg10dWRMp7gIKifWx58faB2hJOgBGgNQU2=s64",
      "userId": "12612454589938675731"
     },
     "user_tz": -480
    },
    "id": "KVswrTsl3f02",
    "outputId": "7739c1f5-1480-4ca1-c96a-c97e9b2f3cc3"
   },
   "outputs": [
    {
     "data": {
      "text/plain": [
       "{'articles': [{'author': None,\n",
       "   'content': 'Britain’s Queen Elizabeth II attends a virtual science showcase to mark British Science Week in this screenshot provided by the Royal Communications on March 12, 2021. Buckingham Palace/Handout via R… [+2122 chars]',\n",
       "   'description': \"LONDON - Britain's Queen Elizabeth has made her first appearance since a tell-all interview by grandson Prince Harry and his wife Meghan rocked the monarchy, but made no reference to the crisis it had caused her family.\\n\\nDuring the Oprah Winfrey interview, Me…\",\n",
       "   'publishedAt': '2021-03-12T22:19:12Z',\n",
       "   'source': {'id': None, 'name': 'Inquirer.net'},\n",
       "   'title': 'Queen Elizabeth makes first appearance since Harry and Meghan interview',\n",
       "   'url': 'https://lifestyle.inquirer.net/?p=380347',\n",
       "   'urlToImage': 'https://lifestyle.inquirer.net/files/2021/03/2021-03-12T184712Z_2_LYNXMPEH2B1FN_RTROPTP_4_BRITAIN-ROYALS-QUEEN.jpg'},\n",
       "  {'author': 'clopez',\n",
       "   'content': None,\n",
       "   'description': 'Move over, Madonna’s “Like A Virgin.” Here comes Sharon Cuneta in “Revirginized.” The risqué movie, directed by Darryl Yap, serves as the Megastar’s Viva Films comeback. As we face the new normal, Sharon dares to try a “new, unusual” project. It only goes to …',\n",
       "   'publishedAt': '2021-03-12T16:20:09Z',\n",
       "   'source': {'id': None, 'name': 'Inquirer.net'},\n",
       "   'title': 'Kiko on Sharon having a young leading man; Boy on Gerald’s ‘big reveal’',\n",
       "   'url': 'https://entertainment.inquirer.net/405510/kiko-on-sharon-having-a-young-leading-man-boy-on-geralds-big-reveal',\n",
       "   'urlToImage': None},\n",
       "  {'author': 'Agence France-Presse',\n",
       "   'content': 'GENEVA The World Health Organization (WHO) said Friday there was no reason to stop using AstraZeneca’s COVID-19 vaccine after several countries suspended the rollout over blood clot fears.\\r\\nThe WHO, … [+4040 chars]',\n",
       "   'description': \"GENEVA --- The World Health Organization (WHO) said Friday there was no reason to stop using AstraZeneca's COVID-19 vaccine after several countries suspended the rollout over blood clot fears.\\n\\nThe WHO, which said its vaccines advisory committee was examining…\",\n",
       "   'publishedAt': '2021-03-12T13:42:01Z',\n",
       "   'source': {'id': None, 'name': 'Inquirer.net'},\n",
       "   'title': 'WHO says no reason to stop using AstraZeneca jab',\n",
       "   'url': 'https://newsinfo.inquirer.net/1406326/who-says-no-reason-to-stop-using-astrazeneca-jab',\n",
       "   'urlToImage': 'https://newsinfo.inquirer.net/files/2021/02/2021-02-10-WHO-building-in-Switzerland.jpg'},\n",
       "  {'author': 'kadraneda',\n",
       "   'content': 'FILE PHOTO: A sign promotes mask-wearing at a bar as the state of Texas prepares to lift its mask mandate and reopen businesses to full capacity during the coronavirus disease (COVID-19) pandemic in … [+2215 chars]',\n",
       "   'description': 'The Attorney General for Texas is suing officials in Austin after they refused to enforce an order that ended a statewide mask mandate. Texas announced the lifting of that restriction – which had made mask-wearing compulsory in public buildings and many outdo…',\n",
       "   'publishedAt': '2021-03-12T12:35:58Z',\n",
       "   'source': {'id': None, 'name': 'Inquirer.net'},\n",
       "   'title': 'Texas Attorney General sues Austin officials over not lifting mask mandate',\n",
       "   'url': 'https://newsinfo.inquirer.net/1406301/texas-attorney-general-sues-austin-officials-over-not-lifting-mask-mandate',\n",
       "   'urlToImage': 'https://newsinfo.inquirer.net/files/2021/03/2021-03-12T111846Z_3_LYNXMPEH2B0O6_RTROPTP_4_HEALTH-CORONAVIRUS-USA-TEXAS-620x414.jpg'},\n",
       "  {'author': 'blozada',\n",
       "   'content': 'FILE PHOTO: A person holds up a flag during rally to protest the Trump administration’s reported transgender proposal to narrow the definition of gender to male or female at birth, at City Hall in Ne… [+5044 chars]',\n",
       "   'description': '(Reuters) – Grace Walker, 17, was captain of the girls’ tennis team at her Minnesota high school until the coronavirus pandemic wiped out her season. Now her state is one of 20 across the country where lawmakers want to block transgender athletes like her fro…',\n",
       "   'publishedAt': '2021-03-12T11:44:54Z',\n",
       "   'source': {'id': None, 'name': 'Inquirer.net'},\n",
       "   'title': 'US States seek curbs on transgender girls in sports, inflaming U.S. culture war',\n",
       "   'url': 'https://sports.inquirer.net/417815/us-states-seek-curbs-on-transgender-girls-in-sports-inflaming-u-s-culture-war',\n",
       "   'urlToImage': 'https://sports.inquirer.net/files/2021/03/2021-03-12T111003Z_2_LYNXMPEH2B0Q1_RTROPTP_4_USA-LGBTQ-SPORTS-scaled.jpg'},\n",
       "  {'author': 'postie',\n",
       "   'content': 'MANILA, Philippines The Office of the Solicitor General (OSG) would again shut its premises to prevent the further spread of the new coronavirus disease.\\r\\nFrom March 12 to 16, the OSG will be closed … [+1344 chars]',\n",
       "   'description': 'MANILA, Philippines — The Office of the Solicitor General (OSG) would again shut its premises to prevent the further spread of the new coronavirus disease. From March 12 to 16, the OSG will be closed to the public as six of its employees have tested positive …',\n",
       "   'publishedAt': '2021-03-12T10:40:02Z',\n",
       "   'source': {'id': None, 'name': 'Inquirer.net'},\n",
       "   'title': 'OSG closes premises from March 12-16 as six staff contract COVID-19',\n",
       "   'url': 'https://newsinfo.inquirer.net/1406258/osg-closes-premises-from-march-12-16-as-six-staff-contract-covid-19',\n",
       "   'urlToImage': 'https://newsinfo.inquirer.net/files/2019/04/1200px-Office_of_the_Solicitor_General_of_the_Philippines_OSG.svg_-620x620.png'},\n",
       "  {'author': 'Reuters',\n",
       "   'content': 'CAPE TOWN The South African government’s agreement with Johnson &amp; Johnson for 11 million COVID-19 vaccine doses includes an option for an additional 20 million doses depending on the availability… [+1750 chars]',\n",
       "   'description': 'CAPE TOWN --- The South African government\\'s agreement with Johnson & Johnson for 11 million COVID-19 vaccine doses includes an option for an additional 20 million doses depending on the availability of stock, its health minister said.\\n\\n\"The agreement has bee…',\n",
       "   'publishedAt': '2021-03-12T09:25:32Z',\n",
       "   'source': {'id': None, 'name': 'Inquirer.net'},\n",
       "   'title': 'South Africa could get 20 million more J&J vaccine doses, says minister',\n",
       "   'url': 'https://newsinfo.inquirer.net/1406237/south-africa-could-get-20-million-more-jj-vaccine-doses-says-minister',\n",
       "   'urlToImage': 'https://newsinfo.inquirer.net/files/2021/03/2021-02-28T203114Z_2_LYNXNPEH1R0AC_RTROPTP_4_HEALTH-CORONAVIRUS-VACCINE-JOHNSON-JOHNSON-620x405.jpg'},\n",
       "  {'author': 'oestrada',\n",
       "   'content': 'Dante’s “Divine Comedy,” considered one of the world’s greatest literary works, came to light after a miscarriage of justice which Italian legal experts now want to correct — some seven centuries on.… [+4081 chars]',\n",
       "   'description': 'Dante’s “Divine Comedy,” considered one of the world’s greatest literary works, came to light after a miscarriage of justice which Italian legal experts now want to correct — some seven centuries on. The man whom Italians call the “Supreme Poet” was exiled fr…',\n",
       "   'publishedAt': '2021-03-12T09:12:45Z',\n",
       "   'source': {'id': None, 'name': 'Inquirer.net'},\n",
       "   'title': 'Can Italy’s Dante have justice, 700 years after his death?',\n",
       "   'url': 'https://lifestyle.inquirer.net/380339/can-italys-dante-have-justice-700-years-after-his-death/',\n",
       "   'urlToImage': 'https://lifestyle.inquirer.net/files/2021/03/000_94R6W9-scaled.jpg'},\n",
       "  {'author': 'Cathrine Gonzales',\n",
       "   'content': 'MANILA, Philippines Active COVID-19 cases in the country have again breached the 50,000-mark on Friday as the Philippines likewise logged another record high of 4,578 new infections in a day.\\r\\nThe De… [+1813 chars]',\n",
       "   'description': 'MANILA, Philippines --- Active COVID-19 cases in the country have again breached the 50,000-mark on Friday as the Philippines likewise logged another record high of 4,578 new infections in a day.\\n\\nThe Department of Health (DOH) reported that COVID-19 active c…',\n",
       "   'publishedAt': '2021-03-12T08:42:28Z',\n",
       "   'source': {'id': None, 'name': 'Inquirer.net'},\n",
       "   'title': 'PH’s COVID-19 active cases top 50,000 anew; per day infections hit another record high at 4,578',\n",
       "   'url': 'https://newsinfo.inquirer.net/1406214/phs-covid-19-active-cases-top-50000-anew-per-day-infections-hit-another-record-high-at-4578',\n",
       "   'urlToImage': 'https://newsinfo.inquirer.net/files/2020/05/AP20132728571996-620x484.jpg'},\n",
       "  {'author': 'Cristina Eloisa Baclig',\n",
       "   'content': 'Checkpoint signage is seen as a soldier (R) checks the temperature of a motorist before entering Manila on March 16, 2020, as part of measures to reduce the spread of the COVID-19 pandemic. – The vir… [+12346 chars]',\n",
       "   'description': \"MANILA, Philippines --- Today, March 12, 2021, marks the first anniversary since the Philippines imposed a community quarantine in hopes of controlling the country's COVID-19 cases.\\n\\nIt has also been months since President Rodrigo Duterte first vowed that lif…\",\n",
       "   'publishedAt': '2021-03-12T08:29:30Z',\n",
       "   'source': {'id': None, 'name': 'Inquirer.net'},\n",
       "   'title': 'DATA: A year of COVID-19 quarantine in PH',\n",
       "   'url': 'https://newsinfo.inquirer.net/1406213/fwd-data-a-year-of-covid-19-quarantine-in-ph',\n",
       "   'urlToImage': 'https://newsinfo.inquirer.net/files/2021/03/checkpoint.jpg'},\n",
       "  {'author': 'Delfin T. Mallari Jr.',\n",
       "   'content': 'LUCENA CITY Police accosted 140 persons in Cavite province in the last two days for violating health and safety protocols against the coronavirus disease (COVDI-19).\\r\\nColonel Marlon Santos, Cavite po… [+1720 chars]',\n",
       "   'description': 'LUCENA CITY ---- Police accosted 140 persons in Cavite province in the last two days for violating health and safety protocols against the coronavirus disease (COVDI-19).\\nColonel Marlon Santos, Cavite police chief, said in reports posted by the police public …',\n",
       "   'publishedAt': '2021-03-12T07:26:30Z',\n",
       "   'source': {'id': None, 'name': 'Inquirer.net'},\n",
       "   'title': 'Cops hold 140 COVID-19 protocol violators in Cavite',\n",
       "   'url': 'https://newsinfo.inquirer.net/1406197/cops-hold-140-covid-19-protocol-violators-in-cavite',\n",
       "   'urlToImage': 'https://newsinfo.inquirer.net/files/2020/07/07032020-Remulla-620x413.jpeg'},\n",
       "  {'author': 'blozada',\n",
       "   'content': 'FILE PHOTO: Japan’s Olympic and Paralympic Games Minister Tamayo Marukawa attends a news conference, amid the coronavirus disease (COVID-19) outbreak, in Tokyo, Japan February 18, 2021. REUTERS/Issei… [+2242 chars]',\n",
       "   'description': 'TOKYO (Reuters)—Japanese athletes at the Summer Olympics will not be eligible for coronavirus vaccinations offered by China since Japan has not approved the vaccines, Olympics Minister Tamayo Marukawa said on Friday, according to public broadcaster NHK. The C…',\n",
       "   'publishedAt': '2021-03-12T06:45:02Z',\n",
       "   'source': {'id': None, 'name': 'Inquirer.net'},\n",
       "   'title': 'Olympics: No Chinese vaccines to be taken by Team Japan, minister says',\n",
       "   'url': 'https://sports.inquirer.net/?p=417765',\n",
       "   'urlToImage': 'https://sports.inquirer.net/files/2021/03/2021-03-12T045941Z_1_LYNXMPEH2B07Y_RTROPTP_4_OLYMPICS-2020-MARUKAWA-scaled.jpg'},\n",
       "  {'author': 'vcatibog',\n",
       "   'content': 'Manila, Philippines – March 10, 2021 – In practically every Filipino get-together, there is lumpia, a spring roll made of paper-thin wrapper, stuffed with various savory or sweet fillings. This well-… [+2172 chars]',\n",
       "   'description': 'Manila, Philippines – March 10, 2021 – In practically every Filipino get-together, there is lumpia, a spring roll made of paper-thin wrapper, stuffed with various savory or sweet fillings. This well-loved dish has recently gone from table to TikTok, thanks to…',\n",
       "   'publishedAt': '2021-03-12T06:11:57Z',\n",
       "   'source': {'id': None, 'name': 'Inquirer.net'},\n",
       "   'title': '5 Best #NotYourOrdinaryLumpia recipes to try this summer',\n",
       "   'url': 'https://lifestyle.inquirer.net/380310/5-best-notyourordinarylumpia-recipes-to-try-this-summer/',\n",
       "   'urlToImage': 'https://lifestyle.inquirer.net/files/2021/03/tiktok-scaled.jpg'},\n",
       "  {'author': 'Joanna Rose Aglibot',\n",
       "   'content': 'CABANGAN, Zambales A public hospital doctor residing in this town has tested positive for coronavirus disease (COVID-19) on Thursday, March 11, officials said.\\r\\nDr. Noel Bueno, provincial health dire… [+1160 chars]',\n",
       "   'description': 'CABANGAN, Zambales ---- A public hospital doctor residing in this town has tested positive for coronavirus disease (COVID-19) on Thursday, March 11, officials said.\\nDr. Noel Bueno, provincial health director, said the 33-year-old male doctor works in a Bataan…',\n",
       "   'publishedAt': '2021-03-12T05:28:24Z',\n",
       "   'source': {'id': None, 'name': 'Inquirer.net'},\n",
       "   'title': 'Bataan doctor tests positive for COVID-19',\n",
       "   'url': 'https://newsinfo.inquirer.net/?p=1406148',\n",
       "   'urlToImage': 'https://newsinfo.inquirer.net/files/2020/06/old-bataan-capitol-06172020-620x412.jpg'},\n",
       "  {'author': 'dmorcoso',\n",
       "   'content': 'LUCENA CITY Thirty-five new coronavirus disease (COVID-19) cases were recorded in Tagaytay City in Cavite province, 25 of whom contracted the virus in a wake for the dead, local authorities reported … [+1684 chars]',\n",
       "   'description': 'LUCENA CITY –– Thirty-five new coronavirus disease (COVID-19) cases were recorded in Tagaytay City in Cavite province, 25 of whom contracted the virus in a wake for the dead, local authorities reported Friday, March 12. The local government said in a post on …',\n",
       "   'publishedAt': '2021-03-12T05:07:16Z',\n",
       "   'source': {'id': None, 'name': 'Inquirer.net'},\n",
       "   'title': 'Tagaytay has 35 new COVID-19 cases; 25 contract virus in wake',\n",
       "   'url': 'https://newsinfo.inquirer.net/?p=1406133',\n",
       "   'urlToImage': 'https://newsinfo.inquirer.net/files/2020/05/Regions42512-620x416.jpg'},\n",
       "  {'author': None,\n",
       "   'content': None,\n",
       "   'description': 'MANILA, Philippines --- The Philippine National Police (PNP) should focus on cleansing its ranks instead of running after couples who engage in public display affection (PDA), a lawmaker said Friday.\\n\\nPuwersa ng Bayaning Atleta (PBA) Partylist Rep. Jericho No…',\n",
       "   'publishedAt': '2021-03-12T02:58:05Z',\n",
       "   'source': {'id': None, 'name': 'Inquirer.net'},\n",
       "   'title': 'Solon tells PNP: Focus on cleansing ranks, not ‘PDA couples’',\n",
       "   'url': 'https://newsinfo.inquirer.net/1406093/solon-tells-pnp-focus-on-cleansing-ranks-not-pda-couples',\n",
       "   'urlToImage': None},\n",
       "  {'author': 'ilucas',\n",
       "   'content': 'Going on an adventure in off-the-beaten path destinations is one the many things Filipinos are looking forward to doing again now that tourism is slowly reopening with travel and safety protocols set… [+3051 chars]',\n",
       "   'description': 'Going on an adventure in off-the-beaten path destinations is one the many things Filipinos are looking forward to doing again now that tourism is slowly reopening with travel and safety protocols set in place. Hiking mountains, swimming in beaches, and even c…',\n",
       "   'publishedAt': '2021-03-12T02:39:21Z',\n",
       "   'source': {'id': None, 'name': 'Inquirer.net'},\n",
       "   'title': 'Take a 360 virtual adventure around Hong Kong’s off-the-beaten path outdoor destinations',\n",
       "   'url': 'https://lifestyle.inquirer.net/380236/take-a-360-virtual-adventure-around-hong-kongs-off-the-beaten-path-outdoor-destinations/',\n",
       "   'urlToImage': 'https://lifestyle.inquirer.net/files/2021/03/HKTB-Cover.png'},\n",
       "  {'author': None,\n",
       "   'content': 'Nanyang offers all day Asian favorites Homemade Nasi Lemak served with golden crispy chicken chop, sambal sauce, anchovies with peanuts, sliced cucumber, rice and egg. Curry Chicken with Rice P248 ri… [+1679 chars]',\n",
       "   'description': 'Nanyang offers all day Asian favorites Homemade Nasi Lemak served with golden crispy chicken chop, sambal sauce, anchovies with peanuts, sliced cucumber, rice and egg. Curry Chicken with Rice P248 rich in flavor with the right amount of spiciness. Hainanese C…',\n",
       "   'publishedAt': '2021-03-12T02:00:30Z',\n",
       "   'source': {'id': None, 'name': 'Inquirer.net'},\n",
       "   'title': 'Nanyang offers authentic and affordable Singaporean rice meal set and noodles',\n",
       "   'url': 'https://lifestyle.inquirer.net/?p=380280',\n",
       "   'urlToImage': 'https://lifestyle.inquirer.net/files/2021/03/Screen-Shot-2021-03-11-at-9.04.00-PM-e1615467996378.png'},\n",
       "  {'author': None,\n",
       "   'content': 'A family gather around the television in Liverpool, north west England to watch Prince Harry and his wife Meghan’s explosive tell-all interview on CBS with Oprah Winfrey, on March 8, 2021, as nationa… [+2725 chars]',\n",
       "   'description': \"ZURICH, Switzerland - Swiss spectacles manufacturer Gotti said Thursday they had been inundated with demand for the oversized glasses worn by Oprah Winfrey for her TV interview with Britain's Prince Harry and his wife Meghan.\\n\\nThe small Zurich-based brand, wh…\",\n",
       "   'publishedAt': '2021-03-11T23:11:25Z',\n",
       "   'source': {'id': None, 'name': 'Inquirer.net'},\n",
       "   'title': 'Oprah’s oversized royal interview glasses spark Swiss specs frenzy',\n",
       "   'url': 'https://lifestyle.inquirer.net/?p=380302',\n",
       "   'urlToImage': 'https://lifestyle.inquirer.net/files/2021/03/000_94R94U-scaled.jpg'},\n",
       "  {'author': 'clopez',\n",
       "   'content': 'VEXED Thai Prime Minister Prayuth Chan-ocha sprays hand sanitizer at front row journalists to avert answering questions on the latest Cabinet reshuffle in Bangkok, Thailand, on Tuesday. REUTERS\\r\\nBANG… [+1702 chars]',\n",
       "   'description': 'BANGKOK—Thai Prime Minister Prayuth Chan-ocha left reporters stunned and amused on Tuesday when he interrupted his own news conference to spray them with hand sanitizer in a bid to dodge tough questions. Prayuth became frustrated when asked about a list of po…',\n",
       "   'publishedAt': '2021-03-11T21:50:03Z',\n",
       "   'source': {'id': None, 'name': 'Inquirer.net'},\n",
       "   'title': 'Irked Thai PM ‘sanitizes’ journalists',\n",
       "   'url': 'https://newsinfo.inquirer.net/1406027/irked-thai-pm-sanitizes-journalists',\n",
       "   'urlToImage': 'https://newsinfo.inquirer.net/files/2021/03/News131138-620x413.jpg'}],\n",
       " 'status': 'ok',\n",
       " 'totalResults': 61}"
      ]
     },
     "execution_count": 9,
     "metadata": {
      "tags": []
     },
     "output_type": "execute_result"
    }
   ],
   "source": [
    "articles = newsapi.get_everything(domains='inquirer.net',from_param='2021-03-11',to='2021-03-12',language='en')\n",
    "articles"
   ]
  },
  {
   "cell_type": "markdown",
   "metadata": {
    "id": "FJibAhgX7aOa"
   },
   "source": [
    "## Export JSON file"
   ]
  },
  {
   "cell_type": "code",
   "execution_count": 10,
   "metadata": {
    "executionInfo": {
     "elapsed": 1985,
     "status": "ok",
     "timestamp": 1615795790819,
     "user": {
      "displayName": "Sean David Yuhico",
      "photoUrl": "https://lh3.googleusercontent.com/a-/AOh14GhU1Jqg10dWRMp7gIKifWx58faB2hJOgBGgNQU2=s64",
      "userId": "12612454589938675731"
     },
     "user_tz": -480
    },
    "id": "LK5067wb7dQG"
   },
   "outputs": [],
   "source": [
    "import json\n",
    "\n",
    "with open('articles.json','w') as outfile:\n",
    "  json.dump(articles, outfile)"
   ]
  }
 ],
 "metadata": {
  "colab": {
   "authorship_tag": "ABX9TyPcHF5hu6XJwO2TnCAHjKZG",
   "name": "APIAccessHW.ipynb",
   "provenance": []
  },
  "kernelspec": {
   "display_name": "Python 3",
   "language": "python",
   "name": "python3"
  },
  "language_info": {
   "codemirror_mode": {
    "name": "ipython",
    "version": 3
   },
   "file_extension": ".py",
   "mimetype": "text/x-python",
   "name": "python",
   "nbconvert_exporter": "python",
   "pygments_lexer": "ipython3",
   "version": "3.8.8"
  }
 },
 "nbformat": 4,
 "nbformat_minor": 4
}
